{
 "cells": [
  {
   "cell_type": "code",
   "execution_count": 26,
   "metadata": {
    "collapsed": true
   },
   "outputs": [],
   "source": [
    "import numpy as np\n",
    "from matplotlib import pyplot as plt"
   ]
  },
  {
   "cell_type": "code",
   "execution_count": 56,
   "metadata": {},
   "outputs": [],
   "source": [
    "ito_eta = []\n",
    "ito_k = []\n",
    "ito_wavelengths = []\n",
    "for line in open('data/nk_ITO.csv'):\n",
    "    row = line.strip().split(',')\n",
    "    if row[0].isdigit():\n",
    "        ito_wavelengths.append(int(row[0]))\n",
    "        ito_eta.append(float(row[1]))\n",
    "        ito_k.append(float(row[2]))\n",
    "ito_n = np.array(ito_eta) + 1j*np.array(ito_k) # complex indices of refraction\n",
    "ito_q = ito_n # since we are assuming that the angle of incidence is 0\n",
    "ito_q = dict(zip(p3ht_wavelengths, ito_q))"
   ]
  },
  {
   "cell_type": "code",
   "execution_count": 57,
   "metadata": {},
   "outputs": [],
   "source": [
    "pedot_eta = []\n",
    "pedot_k = []\n",
    "pedot_wavelengths = []\n",
    "for line in open('data/nk_PEDOT.csv'):\n",
    "    row = line.strip().split(',')\n",
    "    if row[0].isdigit():\n",
    "        pedot_wavelengths.append(int(row[0]))\n",
    "        pedot_eta.append(float(row[1]))\n",
    "        pedot_k.append(float(row[2]))\n",
    "pedot_n = np.array(pedot_eta) + 1j*np.array(pedot_k) # complex indices of refraction\n",
    "pedot_q = pedot_n # since we are assuming that the angle of incidence is 0\n",
    "pedot_q = dict(zip(p3ht_wavelengths, pedot_q))"
   ]
  },
  {
   "cell_type": "code",
   "execution_count": 58,
   "metadata": {},
   "outputs": [],
   "source": [
    "p3ht_eta = []\n",
    "p3ht_k = []\n",
    "p3ht_wavelengths = []\n",
    "for line in open('data/nk_P3HTPCBM_BHJ.csv'):\n",
    "    row = line.strip().split(',')\n",
    "    if row[0].isdigit():\n",
    "        p3ht_wavelengths.append(int(row[0]))\n",
    "        p3ht_eta.append(float(row[1]))\n",
    "        p3ht_k.append(float(row[2]))\n",
    "p3ht_n = np.array(p3ht_eta) + 1j*np.array(p3ht_k) # complex indices of refraction\n",
    "p3ht_q = np.array(p3ht_n) # since we are assuming that the angle of incidence is 0\n",
    "p3ht_q = dict(zip(p3ht_wavelengths, p3ht_q))"
   ]
  },
  {
   "cell_type": "code",
   "execution_count": 59,
   "metadata": {},
   "outputs": [
    {
     "name": "stdout",
     "output_type": "stream",
     "text": [
      "(1.69667+0.01951j)\n"
     ]
    }
   ],
   "source": [
    "device_q = [ito_q, pedot_q, p3ht_q]\n",
    "print(device_q[1][301])"
   ]
  },
  {
   "cell_type": "code",
   "execution_count": null,
   "metadata": {
    "collapsed": true
   },
   "outputs": [],
   "source": []
  }
 ],
 "metadata": {
  "kernelspec": {
   "display_name": "Python 3",
   "language": "python",
   "name": "python3"
  },
  "language_info": {
   "codemirror_mode": {
    "name": "ipython",
    "version": 3
   },
   "file_extension": ".py",
   "mimetype": "text/x-python",
   "name": "python",
   "nbconvert_exporter": "python",
   "pygments_lexer": "ipython3",
   "version": "3.6.1"
  }
 },
 "nbformat": 4,
 "nbformat_minor": 2
}
