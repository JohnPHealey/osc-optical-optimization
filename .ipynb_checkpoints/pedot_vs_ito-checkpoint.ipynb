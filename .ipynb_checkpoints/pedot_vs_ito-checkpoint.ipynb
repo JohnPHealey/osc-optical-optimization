{
 "cells": [
  {
   "cell_type": "markdown",
   "metadata": {},
   "source": [
    "## ITO Anode"
   ]
  },
  {
   "cell_type": "code",
   "execution_count": 1,
   "metadata": {
    "collapsed": true
   },
   "outputs": [],
   "source": [
    "import numpy as np\n",
    "from matplotlib import pyplot as plt\n",
    "import math\n",
    "import cmath"
   ]
  },
  {
   "cell_type": "code",
   "execution_count": 2,
   "metadata": {
    "collapsed": true
   },
   "outputs": [],
   "source": [
    "d = [float(\"inf\"), 130, 50, 110, float(\"inf\")]\n",
    "\n",
    "ito_eta = []\n",
    "ito_k = []\n",
    "ito_wavelengths = []\n",
    "for line in open('data/nk_ITO.csv'):\n",
    "    row = line.strip().split(',')\n",
    "    if row[0].isdigit():\n",
    "        ito_wavelengths.append(int(row[0]))\n",
    "        ito_eta.append(float(row[1]))\n",
    "        ito_k.append(float(row[2]))\n",
    "ito_n = np.array(ito_eta) + 1j*np.array(ito_k) # complex indices of refraction\n",
    "ito_q = ito_n # since we are assuming that the angle of incidence is 0\n",
    "ito_q = dict(zip(ito_wavelengths, ito_q))"
   ]
  },
  {
   "cell_type": "code",
   "execution_count": 3,
   "metadata": {
    "collapsed": true
   },
   "outputs": [],
   "source": [
    "pedot_eta = []\n",
    "pedot_k = []\n",
    "pedot_wavelengths = []\n",
    "for line in open('data/nk_PEDOT.csv'):\n",
    "    row = line.strip().split(',')\n",
    "    if row[0].isdigit():\n",
    "        pedot_wavelengths.append(int(row[0]))\n",
    "        pedot_eta.append(float(row[1]))\n",
    "        pedot_k.append(float(row[2]))\n",
    "pedot_n = np.array(pedot_eta) + 1j*np.array(pedot_k) # complex indices of refraction\n",
    "pedot_q = pedot_n # since we are assuming that the angle of incidence is 0\n",
    "pedot_q = dict(zip(pedot_wavelengths, pedot_q))"
   ]
  },
  {
   "cell_type": "code",
   "execution_count": 4,
   "metadata": {
    "collapsed": true
   },
   "outputs": [],
   "source": [
    "p3ht_eta = []\n",
    "p3ht_k = []\n",
    "p3ht_wavelengths = []\n",
    "for line in open('data/nk_P3HTPCBM_BHJ.csv'):\n",
    "    row = line.strip().split(',')\n",
    "    if row[0].isdigit():\n",
    "        p3ht_wavelengths.append(int(row[0]))\n",
    "        p3ht_eta.append(float(row[1]))\n",
    "        p3ht_k.append(float(row[2]))\n",
    "p3ht_n = np.array(p3ht_eta) + 1j*np.array(p3ht_k) # complex indices of refraction\n",
    "p3ht_q = np.array(p3ht_n) # since we are assuming that the angle of incidence is 0\n",
    "p3ht_q = dict(zip(p3ht_wavelengths, p3ht_q))"
   ]
  },
  {
   "cell_type": "code",
   "execution_count": 5,
   "metadata": {
    "collapsed": true
   },
   "outputs": [],
   "source": [
    "ambient_eta = np.ones(len(p3ht_wavelengths))*0.13\n",
    "ambient_k = np.ones(len(p3ht_wavelengths))*2.92\n",
    "ambient_n = np.array(ambient_eta) + 1j*np.array(ambient_k) # complex indices of refraction\n",
    "ambient_q = np.array(ambient_n) # since we are assuming that the angle of incidence is 0\n",
    "ambient_q = dict(zip(p3ht_wavelengths, ambient_q))\n",
    "\n",
    "device_q = [ambient_q, ito_q, pedot_q, p3ht_q, ambient_q]"
   ]
  },
  {
   "cell_type": "code",
   "execution_count": 6,
   "metadata": {
    "collapsed": true
   },
   "outputs": [],
   "source": [
    "# Returns the scattering matrix corresponding to the given layers\n",
    "def scattering_matrix(start_layer, stop_layer, trans, refl, thick, phase):\n",
    "    prod = np.identity(2) # initial value of cumulative product\n",
    "    for v in range(start_layer, stop_layer+1):\n",
    "        # interface matrix I_(v-1)v\n",
    "        t_jk = trans[v-1]\n",
    "        r_jk = refl[v-1]\n",
    "        I_v = (1 / t_jk) * np.array([\n",
    "                                        [1, r_jk], \n",
    "                                        [r_jk, 1]\n",
    "                                    ]) \n",
    "\n",
    "        # layer matrix L_v\n",
    "        phase_thickness = phase[v] * thick[v]\n",
    "        L_v = np.array([\n",
    "                            [cmath.exp(-1j*phase_thickness), 0],\n",
    "                            [0, cmath.exp(1j*phase_thickness)]\n",
    "                       ])\n",
    "\n",
    "        inner_prod = np.matmul(I_v, L_v)\n",
    "\n",
    "        prod = np.matmul(prod, inner_prod) # update cumulative product\n",
    "\n",
    "    outer_interface = (1 / trans[start_layer]) * np.array([\n",
    "                                                            [1, refl[start_layer]],\n",
    "                                                            [refl[start_layer], 1]\n",
    "                                                         ])\n",
    "    return np.matmul(prod, outer_interface)"
   ]
  },
  {
   "cell_type": "code",
   "execution_count": 7,
   "metadata": {
    "collapsed": true
   },
   "outputs": [],
   "source": [
    "wavelengths = pedot_wavelengths\n",
    "R = []\n",
    "T = []\n",
    "for lambdie in wavelengths:\n",
    "    # Fresnel complex coefficients\n",
    "    # t[0] corresponds to t_01 in the above theory\n",
    "    t = [] # transmission\n",
    "    r = [] # reflection\n",
    "\n",
    "    for j in range(len(device_q) - 1):\n",
    "        k = j+1\n",
    "        t_jk = (2 * device_q[j][lambdie]) / (device_q[j][lambdie] + device_q[k][lambdie])\n",
    "        r_jk = (device_q[j][lambdie] - device_q[k][lambdie]) / (device_q[j][lambdie] + device_q[k][lambdie])\n",
    "        t.append(t_jk)\n",
    "        r.append(r_jk)\n",
    "\n",
    "    t = np.array(t)\n",
    "    r = np.array(r)\n",
    "    xi = np.zeros(len(device_q), dtype=complex)\n",
    "    for layer in range(len(device_q)-1):\n",
    "        xi[layer] = device_q[layer][lambdie] * (2 * math.pi / lambdie)\n",
    "    xi[0] = float(\"inf\")\n",
    "    \n",
    "    S = scattering_matrix(start_layer=1, stop_layer=3, trans=t, refl=r, thick=d, phase=xi)\n",
    "    r_complex = S[0][1] / S[0][0]\n",
    "    reflectivity = np.abs(r_complex)**2\n",
    "    R.append(reflectivity)\n",
    "    T.append(1 - reflectivity)"
   ]
  },
  {
   "cell_type": "code",
   "execution_count": 8,
   "metadata": {},
   "outputs": [
    {
     "data": {
      "image/png": "[encoded data removed]",
      "text/plain": [
       "<matplotlib.figure.Figure at 0x1b9a5ed2a58>"
      ]
     },
     "metadata": {},
     "output_type": "display_data"
    }
   ],
   "source": [
    "ito_device_wavelengths = wavelengths\n",
    "ito_device_T = T\n",
    "plt.plot(ito_device_wavelengths[100:], ito_device_T[100:])\n",
    "plt.xlabel(\"Wavelength (nm)\")\n",
    "plt.ylabel(\"Absorption\")\n",
    "plt.ylim(0, 1)\n",
    "plt.xlim(300, 850)\n",
    "\n",
    "plt.show()"
   ]
  },
  {
   "cell_type": "markdown",
   "metadata": {
    "collapsed": true
   },
   "source": [
    "## PEDOT:PSS Anode"
   ]
  },
  {
   "cell_type": "code",
   "execution_count": 9,
   "metadata": {
    "collapsed": true
   },
   "outputs": [],
   "source": [
    "d = [float(\"inf\"), 150, 110, float(\"inf\")]\n",
    "\n",
    "pedot_anode_eta = []\n",
    "pedot_anode_k = []\n",
    "pedot_anode_wavelengths = []\n",
    "for line in open('data/nk_PEDOT.csv'):\n",
    "    row = line.strip().split(',')\n",
    "    if row[0].isdigit():\n",
    "        pedot_anode_wavelengths.append(int(row[0]))\n",
    "        pedot_anode_eta.append(float(row[1]))\n",
    "        pedot_anode_k.append(float(row[2]))\n",
    "pedot_anode_n = np.array(pedot_anode_eta) + 1j*np.array(pedot_anode_k) # complex indices of refraction\n",
    "pedot_anode_q = pedot_anode_n # since we are assuming that the angle of incidence is 0\n",
    "pedot_anode_q = dict(zip(pedot_anode_wavelengths, pedot_anode_q))"
   ]
  },
  {
   "cell_type": "code",
   "execution_count": 10,
   "metadata": {
    "collapsed": true
   },
   "outputs": [],
   "source": [
    "pedot_device_q = [ambient_q, pedot_anode_q, p3ht_q, ambient_q]"
   ]
  },
  {
   "cell_type": "code",
   "execution_count": 11,
   "metadata": {
    "collapsed": true
   },
   "outputs": [],
   "source": [
    "wavelengths = pedot_wavelengths\n",
    "R = []\n",
    "T = []\n",
    "for lambdie in wavelengths:\n",
    "    # Fresnel complex coefficients\n",
    "    # t[0] corresponds to t_01 in the above theory\n",
    "    t = [] # transmission\n",
    "    r = [] # reflection\n",
    "\n",
    "    for j in range(len(pedot_device_q) - 1):\n",
    "        k = j+1\n",
    "        t_jk = (2 * pedot_device_q[j][lambdie]) / (pedot_device_q[j][lambdie] + pedot_device_q[k][lambdie])\n",
    "        r_jk = (pedot_device_q[j][lambdie] - pedot_device_q[k][lambdie]) / (pedot_device_q[j][lambdie] + pedot_device_q[k][lambdie])\n",
    "        t.append(t_jk)\n",
    "        r.append(r_jk)\n",
    "\n",
    "    t = np.array(t)\n",
    "    r = np.array(r)\n",
    "    xi = np.zeros(len(pedot_device_q), dtype=complex)\n",
    "    for layer in range(len(pedot_device_q)-1):\n",
    "        xi[layer] = pedot_device_q[layer][lambdie] * (2 * math.pi / lambdie)\n",
    "    xi[0] = float(\"inf\")\n",
    "    \n",
    "    S = scattering_matrix(start_layer=1, stop_layer=2, trans=t, refl=r, thick=d, phase=xi)\n",
    "    r_complex = S[0][1] / S[0][0]\n",
    "    reflectivity = np.abs(r_complex)**2\n",
    "    R.append(reflectivity)\n",
    "    T.append(1 - reflectivity)"
   ]
  },
  {
   "cell_type": "code",
   "execution_count": 12,
   "metadata": {},
   "outputs": [
    {
     "data": {
      "image/png": "[encoded data removed]",
      "text/plain": [
       "<matplotlib.figure.Figure at 0x1b9a5f1bac8>"
      ]
     },
     "metadata": {},
     "output_type": "display_data"
    }
   ],
   "source": [
    "plt.plot(wavelengths[100:], T[100:])\n",
    "plt.xlabel(\"Wavelength (nm)\")\n",
    "plt.ylabel(\"Absorption\")\n",
    "plt.ylim(0, 1)\n",
    "plt.xlim(300, 850)\n",
    "plt.show()"
   ]
  },
  {
   "cell_type": "markdown",
   "metadata": {
    "collapsed": true
   },
   "source": [
    "# Write to output for analysis"
   ]
  },
  {
   "cell_type": "code",
   "execution_count": 20,
   "metadata": {},
   "outputs": [
    {
     "data": {
      "image/png": "[encoded data removed]",
      "text/plain": [
       "<matplotlib.figure.Figure at 0x1b9a685bba8>"
      ]
     },
     "metadata": {},
     "output_type": "display_data"
    }
   ],
   "source": [
    "plt.plot(wavelengths[100:], np.ones(len(T[100:]))-T[100:], label='PEDOT:PSS Anode')\n",
    "plt.plot(ito_device_wavelengths[100:], np.ones(len(ito_device_T[100:]))-ito_device_T[100:], label='ITO Anode')\n",
    "plt.xlabel(\"Wavelength (nm)\")\n",
    "plt.ylabel(\"Transmission\")\n",
    "plt.ylim(0, 1)\n",
    "plt.xlim(300, 850)\n",
    "plt.legend()\n",
    "plt.show()"
   ]
  },
  {
   "cell_type": "code",
   "execution_count": 15,
   "metadata": {},
   "outputs": [],
   "source": [
    "ito_file = open('modelled-ito-absorptions.dat', 'w')\n",
    "for i in range(len(ito_device_wavelengths)):\n",
    "    ito_file.write(f'{ito_device_wavelengths[i]}\\t{ito_device_T[i]}\\n')\n",
    "ito_file.close()"
   ]
  },
  {
   "cell_type": "code",
   "execution_count": null,
   "metadata": {
    "collapsed": true
   },
   "outputs": [],
   "source": []
  }
 ],
 "metadata": {
  "kernelspec": {
   "display_name": "Python 3",
   "language": "python",
   "name": "python3"
  },
  "language_info": {
   "codemirror_mode": {
    "name": "ipython",
    "version": 3
   },
   "file_extension": ".py",
   "mimetype": "text/x-python",
   "name": "python",
   "nbconvert_exporter": "python",
   "pygments_lexer": "ipython3",
   "version": "3.6.1"
  }
 },
 "nbformat": 4,
 "nbformat_minor": 2
}
