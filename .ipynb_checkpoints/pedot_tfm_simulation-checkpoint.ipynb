{
 "cells": [
  {
   "cell_type": "markdown",
   "metadata": {},
   "source": [
    "# Buffer Layer Optimization\n",
    "#### By: John Healey"
   ]
  },
  {
   "cell_type": "markdown",
   "metadata": {},
   "source": [
    "## Introduction\n",
    "\n",
    "We are studying the effect of using different kinds of PEDOT in the PEDOT:PSS buffer layer on the device's photon absorption and internal optical electrical field distribution. We will also determine the ITO thickness that optimizes these parameters.\n",
    "\n",
    "We will be using Transfer Matrix Formalism (TMF) to evaluate these properties, which is explained [here](https://aip.scitation.org/doi/abs/10.1063/1.370757), and summarized below."
   ]
  },
  {
   "cell_type": "markdown",
   "metadata": {},
   "source": [
    "## Theory behind TMF"
   ]
  },
  {
   "cell_type": "markdown",
   "metadata": {},
   "source": [
    "### Interface Matrices\n",
    "\n",
    "Each interface in the structure (between layers j and k) can be described by an interface matrix of the form:\n",
    "\n",
    "$I_{jk} = \\frac{1}{t_{jk}} \\begin{bmatrix}1 & r_{jk}\\\\r_{jk} & 1\\end{bmatrix}$\n",
    "\n",
    "where $r_{jk}$ and $t_{jk}$ are the Fresnel complex *reflection* and *transmission* coefficients at interface jk.\n",
    "\n",
    "These coefficients are given by:\n",
    "\n",
    "$r_{jk} = \\frac{q_j - q_k}{q_j + q_k},$\n",
    "\n",
    "$t_{jk} = \\frac{2 q_j}{q_j + q_k}$\n",
    "\n",
    "where\n",
    "\n",
    "$q_j = [\\tilde{n}_j^2 - \\eta_0^2 sin \\phi_0]^\\frac{1}{2}$\n",
    "\n",
    "We assume that $\\phi_0$ is 0, so $q_j$ is simplified to $\\tilde{n}_j$ - the complex index of refraction of layer j, which is determined experimentally:\n",
    "\n",
    "$q_j = \\tilde{n}_j$."
   ]
  },
  {
   "cell_type": "markdown",
   "metadata": {},
   "source": [
    "### Layer Matrices\n",
    "\n",
    "The layer matrix describing the propagation through layer j is given by:\n",
    "\n",
    "$L_j = \\begin{bmatrix}e^{-i \\xi_j d_j} & 0\\\\0 & e^{i \\xi_j d_j}\\end{bmatrix}$\n",
    "\n",
    "where\n",
    "\n",
    "$\\xi_j = \\frac{2 \\pi}{\\lambda} q_j$\n",
    "\n",
    "and $\\xi_j d_j$ is the *layer phase thickness*, corresponding to the phase change the wave experiences as it traverses layer j."
   ]
  },
  {
   "cell_type": "markdown",
   "metadata": {},
   "source": [
    "### System Transfer Matrix\n",
    "\n",
    "By using the interface and layer matrices, the total system transfer matrix (scattering matrix) S can be written:\n",
    "\n",
    "$S = \\begin{bmatrix}S_{11} & S_{12}\\\\S_{21} & S_{22}\\end{bmatrix} = (\\prod_{v=1}^{m} I_{(v-1)v} L_v) I_{m(m+1)}$\n",
    "\n",
    "This matrix relates the electric field at the ambient side and susbstrate side (Aluminum cathode - layer m+1) by:\n",
    "\n",
    "$\\begin{bmatrix}E_0^+\\\\E_0^-\\end{bmatrix} = S \\begin{bmatrix}E_{m+1}^+\\\\E_{m+1}^-\\end{bmatrix}$\n",
    "\n",
    "where the optical electric field at any point in the system is resolved into two components: one component propagating in the positive x direction and one in the negative x direction, which at a position x in layer j are denoted $E_j^+ (x)$ and $E_j^- (x)$\n",
    "\n",
    "For the total layered structure, the resulting complex reflection and transmission coefficients can be expressed by using\n",
    "the matrix elements of the total system transfer matrix:\n",
    "\n",
    "$r = \\frac{E_0^-}{E_0^+} = \\frac{S_{21}}{S_{11}}, $\n",
    "\n",
    "$t = \\frac{E_{m+1}^+}{E_0^+} = \\frac{1}{S_{11}}$."
   ]
  },
  {
   "cell_type": "markdown",
   "metadata": {},
   "source": [
    "### Calculating Internal Electric Field\n",
    "\n",
    "In order to calculate the internal electric field in layer j, the layers can be divided into two subsets: one subset to the left of j which will be represented by $S_j'$, and one subset to the right of j which we'll represent with $S_j''$.\n",
    "\n",
    "The total system transfer matrix can then be written as\n",
    "\n",
    "$S = S_j' L_j S_j''$\n",
    "\n",
    "The partial system transfer matrix for the layers left of j is equal to\n",
    "\n",
    "$S_j' = \\begin{bmatrix}S_{j11}' & S_{j12}'\\\\S_{j21}' & S_{j22}'\\end{bmatrix} = (\\prod_{v=1}^{j-1} I_{(v-1)v} L_v) I_{(j-1)j}$,\n",
    "\n",
    "and relates the electric field at the ambient to that at the left boundary of j - that is, at (j-1)j - by:\n",
    "\n",
    "$\\begin{bmatrix}E_0^+\\\\E_0^-\\end{bmatrix} = S_j' \\begin{bmatrix}E_j'^+\\\\E_j'^-\\end{bmatrix}$.\n",
    "\n",
    "For the layers right of j, the matrix is\n",
    "\n",
    "$S_j'' = \\begin{bmatrix}S_{j11}'' & S_{j12}''\\\\S_{j21}'' & S_{j22}''\\end{bmatrix} = (\\prod_{v=j+1}^{m} I_{(v-1)v} L_v) I_{m(m+1)}$,\n",
    "\n",
    "which relates the electric field at the right boundary of j - that is, at j(j+1) - to that at the substsrate by:\n",
    "\n",
    "$\\begin{bmatrix}E_j''^+\\\\E_j''^-\\end{bmatrix} = S_j'' \\begin{bmatrix}E_{m+1}^+\\\\E_{m+1}^-\\end{bmatrix}$.\n",
    "\n",
    "Note that the electric field relations given here will not be used in the final calculation, and are only provided to give a better understanding of the scattering matrices.\n",
    "\n",
    "The expression for the total electric field in an arbitrary plane $j$ at distance $x$ from the left boundary of j is:\n",
    "\n",
    "$$\n",
    "E_j(x) = \\frac{S_{j11}'' \\cdot e^{-i \\xi_j (d_j - x)} + S_{j21}'' \\cdot e^{i \\xi_j (d_j - x)}}\n",
    "{S_{j11}' S_{j11}'' \\cdot e^{-i \\xi_j d_j} + S_{j12}' S_{j21}'' \\cdot e^{i \\xi_j d_j}}\n",
    "E_0^+,\n",
    "$$\n",
    "\n",
    "where $0 \\le x \\le d$."
   ]
  },
  {
   "cell_type": "markdown",
   "metadata": {},
   "source": [
    "## Calculation"
   ]
  },
  {
   "cell_type": "markdown",
   "metadata": {},
   "source": [
    "### Setting up constants"
   ]
  },
  {
   "cell_type": "code",
   "execution_count": 1,
   "metadata": {
    "collapsed": true
   },
   "outputs": [],
   "source": [
    "import numpy as np\n",
    "from scipy import constants\n",
    "from matplotlib import pyplot as plt\n",
    "import math\n",
    "import cmath\n",
    "\n",
    "wavelength = 632.8 # nm\n",
    "E_0 = constants.h * constants.c / wavelength / 1.6021766208e-19 # energy of the light in the ambient\n",
    "m = 3 # no. of layers between ambient and substrate (Al cathode)"
   ]
  },
  {
   "cell_type": "markdown",
   "metadata": {},
   "source": [
    "#### Interface Matrices (01 - m(m+1))"
   ]
  },
  {
   "cell_type": "code",
   "execution_count": 21,
   "metadata": {
    "collapsed": true
   },
   "outputs": [],
   "source": [
    "# Determined optical properties of [Ambient, ITO, Buffer, Active, Cathode (substrate)]\n",
    "eta = np.array([1.0003, 1.78, 1, 1, 0.69]) # refractive indices\n",
    "k = np.array([0, 0.005, 0, 0, 0.023]) # extinction coefficients\n",
    "n = eta + 1j*k # complex indices of refraction\n",
    "q = n # since we are assuming that the angle of incidence is 0\n",
    "\n",
    "# Fresnel complex coefficients\n",
    "# t[0] corresponds to t_01 in the above theory\n",
    "t = [] # transmission\n",
    "r = [] # reflection\n",
    "\n",
    "for j in range(len(q) - 1):\n",
    "    k = j+1\n",
    "    t_jk = (2 * q[j]) / (q[j] + q[k])\n",
    "    r_jk = (q[j] - q[k]) / (q[j] + q[k])\n",
    "    t.append(t_jk)\n",
    "    r.append(r_jk)\n",
    "    \n",
    "t = np.array(t)\n",
    "r = np.array(r)\n",
    "    \n",
    "# The interface matrices will be calculated inline rather than creating them all now in a 3-D array."
   ]
  },
  {
   "cell_type": "markdown",
   "metadata": {},
   "source": [
    "#### Layer Matrices"
   ]
  },
  {
   "cell_type": "code",
   "execution_count": 22,
   "metadata": {
    "collapsed": true
   },
   "outputs": [],
   "source": [
    "# Layer phase thicknesses of [Ambient (for consistent indices), ITO, Buffer, Active, Cathode]\n",
    "d = [-1, 130, 50, 110, 1000]\n",
    "xi = q * (2 * math.pi / wavelength)\n",
    "xi[0] = -1 # ensure that both d and xi are negative for the ambient, since they shouldn't be used\n",
    "\n",
    "# The layer matrices will be calculated inline rather than creating them all now in a 3-D array."
   ]
  },
  {
   "cell_type": "markdown",
   "metadata": {},
   "source": [
    "#### System Transfer Matrix"
   ]
  },
  {
   "cell_type": "code",
   "execution_count": 23,
   "metadata": {},
   "outputs": [
    {
     "name": "stdout",
     "output_type": "stream",
     "text": [
      "[[-0.67035511+0.56379309j  0.25772004+0.12784946j]\n",
      " [ 0.24373432-0.0966143j  -0.64686700-0.58767973j]]\n"
     ]
    }
   ],
   "source": [
    "prod = np.identity(2) # initial value of cumulative product\n",
    "for v in range(1, m+1):\n",
    "    # interface matrix I_(v-1)v\n",
    "    t_jk = t[v-1]\n",
    "    r_jk = r[v-1]\n",
    "    I_v = (1 / t_jk) * np.array([\n",
    "                                [1, r_jk], \n",
    "                                [r_jk, 1]\n",
    "                             ]) \n",
    "    \n",
    "    # layer matrix L_v\n",
    "    phase_thickness = xi[v] * d[v]\n",
    "    L_v = np.array([\n",
    "                    [cmath.exp(-1j*phase_thickness), 0],\n",
    "                    [0, cmath.exp(1j*phase_thickness)]\n",
    "                ])\n",
    "    \n",
    "    inner_prod = np.matmul(I_v, L_v)\n",
    "    \n",
    "    prod = np.matmul(prod, inner_prod)\n",
    "    \n",
    "#     print(prod)\n",
    "    \n",
    "outer_interface = (1 / t[m]) * np.array([\n",
    "                                            [1, r[m]],\n",
    "                                            [r[m], 1]\n",
    "                                       ])\n",
    "# print(prod)\n",
    "# print(outer_interface)\n",
    "S = np.matmul(prod, outer_interface)\n",
    "print(S)"
   ]
  },
  {
   "cell_type": "markdown",
   "metadata": {},
   "source": [
    "### Optimizing the internal optical electric field\n",
    "\n",
    "Here, we calculate the distribution of the normalized modulus squared of the incident optical electric field of the device using two different buffer layers."
   ]
  },
  {
   "cell_type": "markdown",
   "metadata": {},
   "source": [
    "#### Partial Transfer Matrices"
   ]
  },
  {
   "cell_type": "code",
   "execution_count": 24,
   "metadata": {},
   "outputs": [
    {
     "name": "stdout",
     "output_type": "stream",
     "text": [
      "[  5.83427362e-38   5.80679517e-38   5.77933643e-38   5.75191184e-38\n",
      "   5.72453582e-38   5.69722278e-38   5.66998707e-38   5.64284302e-38\n",
      "   5.61580491e-38   5.58888696e-38   5.56210332e-38   5.53546807e-38\n",
      "   5.50899522e-38   5.48269868e-38   5.45659228e-38   5.43068975e-38\n",
      "   5.40500468e-38   5.37955059e-38   5.35434085e-38   5.32938869e-38\n",
      "   5.30470723e-38   5.28030943e-38   5.25620810e-38   5.23241589e-38\n",
      "   5.20894529e-38   5.18580862e-38   5.16301801e-38   5.14058543e-38\n",
      "   5.11852263e-38   5.09684118e-38   5.07555245e-38   5.05466758e-38\n",
      "   5.03419751e-38   5.01415297e-38   4.99454444e-38   4.97538218e-38\n",
      "   4.95667621e-38   4.93843630e-38   4.92067199e-38   4.90339254e-38\n",
      "   4.88660698e-38   4.87032406e-38   4.85455225e-38   4.83929978e-38\n",
      "   4.82457458e-38   4.81038430e-38   4.79673631e-38   4.78363769e-38\n",
      "   4.77109523e-38   4.75911542e-38   4.74770444e-38   4.73686819e-38\n",
      "   4.72661225e-38   4.71694188e-38   4.70786204e-38   4.69937739e-38\n",
      "   4.69149224e-38   4.68421061e-38   4.67753617e-38   4.67147229e-38\n",
      "   4.66602201e-38   4.66118804e-38   4.65697275e-38   4.65337819e-38\n",
      "   4.65040609e-38   4.64805783e-38   4.64633447e-38   4.64523673e-38\n",
      "   4.64476500e-38   4.64491933e-38   4.64569944e-38   4.64710472e-38\n",
      "   4.64913422e-38   4.65178667e-38   4.65506045e-38   4.65895361e-38\n",
      "   4.66346390e-38   4.66858870e-38   4.67432509e-38   4.68066980e-38\n",
      "   4.68761927e-38   4.69516958e-38   4.70331652e-38   4.71205555e-38\n",
      "   4.72138180e-38   4.73129010e-38   4.74177499e-38   4.75283067e-38\n",
      "   4.76445104e-38   4.77662972e-38   4.78936002e-38   4.80263494e-38\n",
      "   4.81644723e-38   4.83078930e-38   4.84565333e-38   4.86103119e-38\n",
      "   4.87691448e-38   4.89329453e-38   4.91016242e-38   4.92750895e-38\n",
      "   4.94532469e-38   4.96359993e-38   4.98232473e-38   5.00148891e-38\n",
      "   5.02108205e-38   5.04109353e-38   5.06151245e-38   5.08232775e-38\n",
      "   5.10352813e-38   5.12510208e-38   5.14703791e-38   5.16932372e-38\n",
      "   5.19194744e-38   5.21489681e-38   5.23815938e-38   5.26172257e-38\n",
      "   5.28557361e-38   5.30969959e-38   5.33408744e-38   5.35872398e-38\n",
      "   5.38359586e-38   5.40868962e-38   5.43399170e-38   5.45948840e-38\n",
      "   5.48516593e-38   5.51101040e-38   5.53700785e-38   5.56314420e-38\n",
      "   5.58940533e-38   5.61577704e-38   5.64224507e-38   5.66879511e-38\n",
      "   5.69541281e-38   5.72208379e-38   5.74879361e-38   5.77552786e-38\n",
      "   5.80227206e-38   5.82901178e-38   5.85573255e-38   5.88241993e-38\n",
      "   5.90905950e-38   5.93563685e-38   5.96213762e-38   5.98854748e-38\n",
      "   6.01485216e-38   6.04103742e-38   6.06708913e-38   6.09299318e-38\n",
      "   6.11873556e-38   6.14430237e-38   6.16967976e-38   6.19485402e-38\n",
      "   6.21981152e-38   6.24453876e-38   6.26902236e-38   6.29324906e-38\n",
      "   6.31720577e-38   6.34087950e-38   6.36425743e-38   6.38732691e-38\n",
      "   6.41007544e-38   6.43249069e-38   6.45456052e-38   6.47627296e-38\n",
      "   6.49761625e-38   6.51857879e-38   6.53914923e-38   6.55931639e-38\n",
      "   6.57906933e-38   6.59839732e-38   6.61728986e-38   6.63573668e-38\n",
      "   6.65372774e-38   6.67125327e-38   6.68830371e-38   6.70486979e-38\n",
      "   6.72094246e-38   6.73651298e-38   6.75157284e-38   6.76611380e-38\n",
      "   6.78012794e-38   6.79360757e-38   6.80654531e-38   6.81893408e-38\n",
      "   6.83076706e-38   6.84203776e-38   6.85273997e-38   6.86286778e-38\n",
      "   6.87241561e-38   6.88137816e-38   6.88975046e-38   6.89752785e-38\n",
      "   6.90470599e-38   6.91128085e-38   6.91724874e-38   6.92260628e-38\n",
      "   6.92735041e-38   6.93147841e-38   6.93498788e-38   6.93787676e-38\n",
      "   4.30407208e-38   4.30471672e-38   4.30542041e-38   4.30618312e-38\n",
      "   4.30700484e-38   4.30788554e-38   4.30882521e-38   4.30982381e-38\n",
      "   4.31088133e-38   4.31199774e-38   4.31317301e-38   4.31440712e-38\n",
      "   4.31570002e-38   4.31705169e-38   4.31846210e-38   4.31993121e-38\n",
      "   4.32145898e-38   4.32304538e-38   4.32469036e-38   4.32639389e-38\n",
      "   4.32815592e-38   4.32997641e-38   4.33185531e-38   4.33379258e-38\n",
      "   4.33578817e-38   4.33784202e-38   4.33995409e-38   4.34212433e-38\n",
      "   4.34435268e-38   4.34663909e-38   4.34898349e-38   4.35138584e-38\n",
      "   4.35384606e-38   4.35636410e-38   4.35893990e-38   4.36157339e-38\n",
      "   4.36426451e-38   4.36701319e-38   4.36981936e-38   4.37268295e-38\n",
      "   4.37560390e-38   4.37858211e-38   4.38161754e-38   4.38471009e-38\n",
      "   4.38785969e-38   4.39106626e-38   4.39432973e-38   4.39765001e-38\n",
      "   4.40102701e-38   4.40446066e-38   4.40795087e-38   4.41149755e-38\n",
      "   4.41510062e-38   4.41875998e-38   4.42247554e-38   4.42624721e-38\n",
      "   4.43007490e-38   4.43395852e-38   4.43789795e-38   4.44189311e-38\n",
      "   4.44594390e-38   4.45005022e-38   4.45421196e-38   4.45842902e-38\n",
      "   4.46270130e-38   4.46702868e-38   4.47141107e-38   4.47584835e-38\n",
      "   4.48034041e-38   4.48488714e-38   4.48948843e-38   4.49414416e-38\n",
      "   4.49885422e-38   4.50361848e-38   4.50843684e-38   4.51330917e-38\n",
      "   4.51823534e-38   4.52321525e-38   4.52824875e-38   4.53333573e-38\n",
      "   4.53847607e-38   4.54366962e-38   4.54891627e-38   4.55421588e-38\n",
      "   4.55956833e-38   4.56497347e-38   4.57043117e-38   4.57594130e-38\n",
      "   4.58150372e-38   4.58711830e-38   4.59278488e-38   4.59850333e-38\n",
      "   4.60427352e-38   4.61009528e-38   4.61596849e-38   4.62189299e-38\n",
      "   4.62786864e-38   4.63389528e-38   4.63997277e-38   4.64610096e-38\n",
      "   4.65227969e-38   4.65850881e-38   4.66478817e-38   4.67111760e-38\n",
      "   4.67749695e-38   4.68392607e-38   4.69040478e-38   4.69693294e-38\n",
      "   4.70351037e-38   4.71013692e-38   4.71681242e-38   4.72353670e-38\n",
      "   4.73030960e-38   4.73713094e-38   4.74400056e-38   4.75091829e-38\n",
      "   4.75788395e-38   4.76489737e-38   4.77195838e-38   4.77906679e-38\n",
      "   4.78622244e-38   4.79342515e-38   4.80067473e-38   4.80797100e-38\n",
      "   4.81531379e-38   4.82270291e-38   4.83013818e-38   4.83761941e-38\n",
      "   4.84514641e-38   4.85271900e-38   4.86033699e-38   4.86800019e-38\n",
      "   4.87570841e-38   4.88346146e-38   4.89125914e-38   4.89910126e-38\n",
      "   4.90698763e-38   4.91491804e-38   4.92289231e-38   4.93091023e-38\n",
      "   4.93897160e-38   4.94707622e-38   4.95522389e-38   4.96341442e-38\n",
      "   4.97164758e-38   4.97992318e-38   4.98824102e-38   4.99660088e-38\n",
      "   5.00500256e-38   5.01344585e-38   5.02193053e-38   5.03045641e-38\n",
      "   5.03902325e-38   5.04763086e-38   5.05627902e-38   5.06496750e-38\n",
      "   5.07369611e-38   5.08246461e-38   5.09127279e-38   5.10012043e-38\n",
      "   5.10900731e-38   5.11793321e-38   5.12689791e-38   5.13590118e-38\n",
      "   5.14494280e-38   5.15402255e-38   5.16314019e-38   5.17229551e-38\n",
      "   5.18148827e-38   5.19071824e-38   5.19998520e-38   5.20928891e-38\n",
      "   5.21862914e-38   5.22800567e-38   5.23741825e-38   5.24686665e-38\n",
      "   5.25635064e-38   5.26586999e-38   5.27542444e-38   5.28501377e-38\n",
      "   5.29463774e-38   5.30429611e-38   5.31398863e-38   5.32371507e-38\n",
      "   5.33347519e-38   5.34326873e-38   5.35309546e-38   5.36295514e-38\n",
      "   5.37284751e-38   5.38277233e-38   5.39272935e-38   5.40271833e-38\n",
      "   5.41273902e-38   5.42279117e-38   5.43287452e-38   5.44298883e-38\n",
      "   5.45313384e-38   5.46330931e-38   5.47351497e-38   5.48375058e-38\n",
      "   4.33439818e-38   4.35227916e-38   4.37027157e-38   4.38837324e-38\n",
      "   4.40658198e-38   4.42489560e-38   4.44331190e-38   4.46182866e-38\n",
      "   4.48044364e-38   4.49915460e-38   4.51795928e-38   4.53685543e-38\n",
      "   4.55584077e-38   4.57491300e-38   4.59406982e-38   4.61330894e-38\n",
      "   4.63262803e-38   4.65202477e-38   4.67149681e-38   4.69104182e-38\n",
      "   4.71065743e-38   4.73034128e-38   4.75009101e-38   4.76990422e-38\n",
      "   4.78977854e-38   4.80971157e-38   4.82970090e-38   4.84974414e-38\n",
      "   4.86983886e-38   4.88998264e-38   4.91017305e-38   4.93040767e-38\n",
      "   4.95068405e-38   4.97099975e-38   4.99135233e-38   5.01173932e-38\n",
      "   5.03215828e-38   5.05260675e-38   5.07308225e-38   5.09358233e-38\n",
      "   5.11410451e-38   5.13464632e-38   5.15520528e-38   5.17577893e-38\n",
      "   5.19636477e-38   5.21696033e-38   5.23756312e-38   5.25817067e-38\n",
      "   5.27878050e-38   5.29939011e-38   5.31999702e-38   5.34059875e-38\n",
      "   5.36119283e-38   5.38177676e-38   5.40234807e-38   5.42290428e-38\n",
      "   5.44344291e-38   5.46396148e-38   5.48445753e-38   5.50492859e-38\n",
      "   5.52537218e-38   5.54578585e-38   5.56616714e-38   5.58651358e-38\n",
      "   5.60682274e-38   5.62709215e-38   5.64731938e-38   5.66750200e-38\n",
      "   5.68763756e-38   5.70772365e-38   5.72775784e-38   5.74773772e-38\n",
      "   5.76766088e-38   5.78752492e-38   5.80732745e-38   5.82706608e-38\n",
      "   5.84673843e-38   5.86634214e-38   5.88587484e-38   5.90533417e-38\n",
      "   5.92471780e-38   5.94402338e-38   5.96324860e-38   5.98239113e-38\n",
      "   6.00144866e-38   6.02041891e-38   6.03929958e-38   6.05808841e-38\n",
      "   6.07678312e-38   6.09538146e-38   6.11388120e-38   6.13228010e-38\n",
      "   6.15057595e-38   6.16876654e-38   6.18684968e-38   6.20482320e-38\n",
      "   6.22268491e-38   6.24043269e-38   6.25806438e-38   6.27557786e-38\n",
      "   6.29297102e-38   6.31024176e-38   6.32738801e-38   6.34440770e-38\n",
      "   6.36129877e-38   6.37805920e-38   6.39468696e-38   6.41118004e-38\n",
      "   6.42753647e-38   6.44375427e-38   6.45983149e-38   6.47576618e-38\n",
      "   6.49155644e-38   6.50720035e-38   6.52269603e-38   6.53804162e-38\n",
      "   6.55323526e-38   6.56827513e-38   6.58315941e-38   6.59788631e-38\n",
      "   6.61245406e-38   6.62686089e-38   6.64110508e-38   6.65518491e-38\n",
      "   6.66909867e-38   6.68284470e-38   6.69642134e-38   6.70982695e-38\n",
      "   6.72305992e-38   6.73611865e-38   6.74900157e-38   6.76170712e-38\n",
      "   6.77423378e-38   6.78658004e-38   6.79874440e-38   6.81072541e-38\n",
      "   6.82252161e-38   6.83413160e-38   6.84555396e-38   6.85678733e-38\n",
      "   6.86783034e-38   6.87868167e-38   6.88934002e-38   6.89980409e-38\n",
      "   6.91007262e-38   6.92014439e-38   6.93001817e-38   6.93969277e-38\n",
      "   6.94916704e-38   6.95843982e-38   6.96751000e-38   6.97637649e-38\n",
      "   6.98503822e-38   6.99349415e-38   7.00174325e-38   7.00978454e-38\n",
      "   7.01761704e-38   7.02523981e-38   7.03265193e-38   7.03985251e-38\n",
      "   7.04684068e-38   7.05361560e-38   7.06017645e-38   7.06652244e-38\n",
      "   7.07265282e-38   7.07856683e-38   7.08426376e-38   7.08974294e-38\n",
      "   7.09500370e-38   7.10004540e-38   7.10486744e-38   7.10946923e-38\n",
      "   7.11385023e-38   7.11800991e-38   7.12194775e-38   7.12566330e-38\n",
      "   7.12915610e-38   7.13242573e-38   7.13547179e-38   7.13829393e-38\n",
      "   7.14089179e-38   7.14326507e-38   7.14541348e-38   7.14733676e-38\n",
      "   7.14903469e-38   7.15050704e-38   7.15175366e-38   7.15277438e-38\n",
      "   7.15356909e-38   7.15413769e-38   7.15448010e-38   7.15459630e-38\n",
      "   7.15448626e-38   7.15415000e-38   7.15358756e-38   7.15279900e-38\n",
      "   7.15178443e-38   7.15054396e-38   7.14907775e-38   7.14738596e-38]\n"
     ]
    },
    {
     "data": {
      "image/png": "[encoded data removed]",
      "text/plain": [
       "<matplotlib.figure.Figure at 0x277e12d70f0>"
      ]
     },
     "metadata": {},
     "output_type": "display_data"
    }
   ],
   "source": [
    "E = []\n",
    "position = []\n",
    "current_position = 0\n",
    "for j in range(1, m+1):\n",
    "    # To the left of j:\n",
    "    prod = np.identity(2)\n",
    "    for v in range(1, j):\n",
    "        # interface matrix I_(v-1)v\n",
    "        t_jk = t[v-1]\n",
    "        r_jk = r[v-1]\n",
    "        I_v = (1 / t_jk) * np.array([\n",
    "                                    [1, r_jk], \n",
    "                                    [r_jk, 1]\n",
    "                                 ]) \n",
    "\n",
    "        # layer matrix L_v\n",
    "        phase_thickness = xi[v] * d[v]\n",
    "        L_v = np.array([\n",
    "                        [cmath.exp(-1j*phase_thickness), 0],\n",
    "                        [0, cmath.exp(1j*phase_thickness)]\n",
    "                    ])\n",
    "\n",
    "        inner_prod = np.matmul(I_v, L_v)\n",
    "        prod = np.matmul(prod, inner_prod)\n",
    "\n",
    "    outer_interface = (1 / t[j-1]) * np.array([\n",
    "                                                [1, r[j-1]],\n",
    "                                                [r[j-1], 1]\n",
    "                                           ])\n",
    "    S_left = np.matmul(prod, outer_interface)\n",
    "\n",
    "    # To the right of j:\n",
    "    prod = np.identity(2)\n",
    "    for v in range(j+1, m+1):\n",
    "        # interface matrix I_(v-1)v\n",
    "        t_jk = t[v-1]\n",
    "        r_jk = r[v-1]\n",
    "        I_v = (1 / t_jk) * np.array([\n",
    "                                    [1, r_jk], \n",
    "                                    [r_jk, 1]\n",
    "                                 ]) \n",
    "\n",
    "        # layer matrix L_v\n",
    "        phase_thickness = xi[v] * d[v]\n",
    "        L_v = np.array([\n",
    "                        [cmath.exp(-1j*phase_thickness), 0],\n",
    "                        [0, cmath.exp(1j*phase_thickness)]\n",
    "                    ])\n",
    "\n",
    "        inner_prod = np.matmul(I_v, L_v)\n",
    "        prod = np.matmul(prod, inner_prod)\n",
    "\n",
    "    outer_interface = (1 / t[m]) * np.array([\n",
    "                                                [1, r[m]],\n",
    "                                                [r[m], 1]\n",
    "                                           ])\n",
    "    S_right = np.matmul(prod, outer_interface)\n",
    "\n",
    "    # Electric field in j:\n",
    "    x_j = np.linspace(0, d[j], 200)\n",
    "    position.extend(x_j + current_position)\n",
    "    current_position += d[j]\n",
    "    for x in x_j:\n",
    "        exp_1 = cmath.exp(-1j*xi[j] * (d[j]-x))\n",
    "        exp_2 = cmath.exp(1j*xi[j] * (d[j]-x))\n",
    "        numerator = (S_right[0][0] * exp_1) + (S_right[1][0] * exp_2)\n",
    "\n",
    "        exp_3 = cmath.exp(-1j*xi[j]*d[j])\n",
    "        exp_4 = cmath.exp(1j*xi[j]*d[j])\n",
    "        denominator = (S_left[0][0] * S_right[0][0] * exp_3) + (S_left[0][1] * S_right[1][0] * exp_4)\n",
    "\n",
    "        E_jx = (numerator/denominator) * E_0\n",
    "        E.append(E_jx)\n",
    "    E_0 = E[-1]\n",
    "    \n",
    "print(np.abs(E)**2)\n",
    "E = np.array(np.abs(E)**2)\n",
    "plt.plot(position, E)\n",
    "plt.show()"
   ]
  },
  {
   "cell_type": "markdown",
   "metadata": {},
   "source": [
    "### Optimizing photon absorption\n",
    "\n",
    "Here, we calculate the absorption and reflectance of the device using various ITO thicknesses."
   ]
  },
  {
   "cell_type": "code",
   "execution_count": null,
   "metadata": {
    "collapsed": true
   },
   "outputs": [],
   "source": []
  },
  {
   "cell_type": "markdown",
   "metadata": {},
   "source": [
    "### Further optimizing the internal optical electric field\n",
    "\n",
    "Here, we once again calculate the normalized modulus squared of the incident optical electric field of the device, this time using ITO of various thicknesses."
   ]
  },
  {
   "cell_type": "code",
   "execution_count": null,
   "metadata": {
    "collapsed": true
   },
   "outputs": [],
   "source": []
  }
 ],
 "metadata": {
  "kernelspec": {
   "display_name": "Python 3",
   "language": "python",
   "name": "python3"
  },
  "language_info": {
   "codemirror_mode": {
    "name": "ipython",
    "version": 3
   },
   "file_extension": ".py",
   "mimetype": "text/x-python",
   "name": "python",
   "nbconvert_exporter": "python",
   "pygments_lexer": "ipython3",
   "version": "3.6.1"
  }
 },
 "nbformat": 4,
 "nbformat_minor": 2
}
