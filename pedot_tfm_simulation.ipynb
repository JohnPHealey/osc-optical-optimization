{
 "cells": [
  {
   "cell_type": "markdown",
   "metadata": {},
   "source": [
    "# Buffer Layer Optimization\n",
    "#### By: John Healey"
   ]
  },
  {
   "cell_type": "markdown",
   "metadata": {},
   "source": [
    "## Introduction\n",
    "\n",
    "We are studying the effect of using different kinds of PEDOT in the PEDOT:PSS buffer layer on the device's photon absorption and internal optical electrical field distribution. We will also determine the ITO thickness that optimizes these parameters.\n",
    "\n",
    "We will be using Transfer Matrix Formalism (TMF) to evaluate these properties, which is explained [here](https://aip.scitation.org/doi/abs/10.1063/1.370757), and summarized below."
   ]
  },
  {
   "cell_type": "markdown",
   "metadata": {},
   "source": [
    "## Theory behind TMF"
   ]
  },
  {
   "cell_type": "markdown",
   "metadata": {},
   "source": [
    "### Interface Matrices\n",
    "\n",
    "Each interface in the structure (between layers j and k) can be described by an interface matrix of the form:\n",
    "\n",
    "$I_{jk} = \\frac{1}{t_{jk}} \\begin{bmatrix}1 & r_{jk}\\\\r_{jk} & 1\\end{bmatrix}$\n",
    "\n",
    "where $r_{jk}$ and $t_{jk}$ are the Fresnel complex *reflection* and *transmission* coefficients at interface jk.\n",
    "\n",
    "These coefficients are given by:\n",
    "\n",
    "$r_{jk} = \\frac{q_j - q_k}{q_j + q_k},$\n",
    "\n",
    "$t_{jk} = \\frac{2 q_j}{q_j + q_k}$\n",
    "\n",
    "where\n",
    "\n",
    "$q_j = [\\tilde{n}_j^2 - \\eta_0^2 sin \\phi_0]^\\frac{1}{2}$\n",
    "\n",
    "We assume that $\\phi_0$ is 0, so $q_j$ is simplified to $\\tilde{n}_j$ - the complex index of refraction of layer j, which is determined experimentally:\n",
    "\n",
    "$q_j = \\tilde{n}_j$."
   ]
  },
  {
   "cell_type": "markdown",
   "metadata": {},
   "source": [
    "### Layer Matrices\n",
    "\n",
    "The layer matrix describing the propagation through layer j is given by:\n",
    "\n",
    "$L_j = \\begin{bmatrix}e^{-i \\xi_j d_j} & 0\\\\0 & e^{i \\xi_j d_j}\\end{bmatrix}$\n",
    "\n",
    "where\n",
    "\n",
    "$\\xi_j = \\frac{2 \\pi}{\\lambda} q_j$\n",
    "\n",
    "and $\\xi_j d_j$ is the \"layer phase thickness,\" corresponding to the phase change the wave experiences as it traverses layer j."
   ]
  },
  {
   "cell_type": "markdown",
   "metadata": {},
   "source": [
    "### System Transfer Matrix\n",
    "\n",
    "By using the interface and layer matrices, the total system transfer matrix (scattering matrix) S can be written:\n",
    "\n",
    "$S = \\begin{bmatrix}S_{11} & S_{12}\\\\S_{21} & S_{22}\\end{bmatrix} = (\\prod_{v=1}^{m} I_{(v-1)v} L_v) I_{m(m+1)}$\n",
    "\n",
    "This matrix relates the electric field at the ambient side and susbstrate side (Aluminum cathode - layer m+1) by:\n",
    "\n",
    "$\\begin{bmatrix}E_0^+\\\\E_0^-\\end{bmatrix} = S \\begin{bmatrix}E_{m+1}^+\\\\E_{m+1}^-\\end{bmatrix}$\n",
    "\n",
    "where the optical electric field at any point in the system is resolved into two components: one component propagating in the positive x direction and one in the negative x direction, which at a position x in layer j are denoted $E_j^+ (x)$ and $E_j^- (x)$\n",
    "\n",
    "For the total layered structure, the resulting complex reflection and transmission coefficients can be expressed by using\n",
    "the matrix elements of the total system transfer matrix:\n",
    "\n",
    "$r = \\frac{E_0^-}{E_0^+} = \\frac{S_{21}}{S_{11}}, $\n",
    "\n",
    "$t = \\frac{E_{m+1}^+}{E_0^+} = \\frac{1}{S_{11}}$."
   ]
  },
  {
   "cell_type": "markdown",
   "metadata": {},
   "source": [
    "### Calculating Internal Electric Field\n",
    "\n",
    "In order to calculate the internal electric field in layer j, the layers can be divided into two subsets: one subset to the left of j which will be represented by $S_j'$, and one subset to the right of j which we'll represent with $S_j''$.\n",
    "\n",
    "The total system transfer matrix can then be written as\n",
    "\n",
    "$S = S_j' L_j S_j''$\n",
    "\n",
    "The partial system transfer matrix for the layers left of j is equal to\n",
    "\n",
    "$S_j' = \\begin{bmatrix}S_{j11}' & S_{j12}'\\\\S_{j21}' & S_{j22}'\\end{bmatrix} = (\\prod_{v=1}^{j-1} I_{(v-1)v} L_v) I_{(j-1)j}$,\n",
    "\n",
    "and relates the electric field at the ambient to that at the left boundary of j - that is, at (j-1)j - by:\n",
    "\n",
    "$\\begin{bmatrix}E_0^+\\\\E_0^-\\end{bmatrix} = S_j' \\begin{bmatrix}E_j'^+\\\\E_j'^-\\end{bmatrix}$.\n",
    "\n",
    "For the layers right of j, the matrix is\n",
    "\n",
    "$S_j'' = \\begin{bmatrix}S_{j11}'' & S_{j12}''\\\\S_{j21}'' & S_{j22}''\\end{bmatrix} = (\\prod_{v=j+1}^{m} I_{(v-1)v} L_v) I_{m(m+1)}$,\n",
    "\n",
    "which relates the electric field at the right boundary of j - that is, at j(j+1) - to that at the substsrate by:\n",
    "\n",
    "$\\begin{bmatrix}E_j''^+\\\\E_j''^-\\end{bmatrix} = S_j'' \\begin{bmatrix}E_{m+1}^+\\\\E_{m+1}^-\\end{bmatrix}$.\n",
    "\n",
    "Note that the electric field relations given here for the scattering matrices will not be used in the final calculation, but just give a better understanding of these matrices.\n",
    "\n",
    "The expression for the total electric field in an arbitrary plane $j$ at distance $x$ from the left boundary of j is:\n",
    "\n",
    "$$\n",
    "E_j(x) = \\frac{S_{j11}'' \\cdot e^{-i \\xi_j (d_j - x)} + S_{j21}'' \\cdot e^{i \\xi_j (d_j - x)}}\n",
    "{S_{j11}' S_{j11}'' \\cdot e^{-i \\xi_j d_j} + S_{j12}' S_{j21}'' \\cdot e^{i \\xi_j d_j}}\n",
    "E_0^+,\n",
    "$$\n",
    "\n",
    "where $0 \\le x \\le d$."
   ]
  },
  {
   "cell_type": "markdown",
   "metadata": {},
   "source": [
    "## Calculation"
   ]
  },
  {
   "cell_type": "markdown",
   "metadata": {},
   "source": [
    "### Setting up constants"
   ]
  },
  {
   "cell_type": "code",
   "execution_count": 19,
   "metadata": {},
   "outputs": [
    {
     "name": "stdout",
     "output_type": "stream",
     "text": [
      "1.95929515481048e-09\n"
     ]
    }
   ],
   "source": [
    "import numpy as np\n",
    "from scipy import constants\n",
    "from matplotlib import pyplot as plt\n",
    "import math\n",
    "import cmath\n",
    "\n",
    "wavelength = 632.8 # nm\n",
    "E_0 = constants.h * constants.c / wavelength / 1.6021766208e-19\n",
    "m = 4 # no. of layers between ambient and substrate (Al cathode)"
   ]
  },
  {
   "cell_type": "markdown",
   "metadata": {},
   "source": [
    "#### Interface Matrices (01 - m(m+1))"
   ]
  },
  {
   "cell_type": "code",
   "execution_count": 16,
   "metadata": {
    "collapsed": true
   },
   "outputs": [],
   "source": [
    "# Determined optical properties of [Ambient, Glass, ITO, Buffer, Active, Cathode (substrate)]\n",
    "eta = np.array([1.0003, 1.55, 1.78, 1, 1, 0.69]) # refractive indices\n",
    "k = np.array([0, 0, 0.005, 0, 0, 0.023]) # extinction coefficients\n",
    "n = eta + 1j*k # complex indices of refraction\n",
    "q = n # since we are assuming that the angle of incidence is 0\n",
    "\n",
    "# Fresnel complex coefficients\n",
    "# t[0] corresponds to t_01 in the above theory\n",
    "t = [] # transmission\n",
    "r = [] # reflection\n",
    "\n",
    "for j in range(len(n) - 1):\n",
    "    k = j+1\n",
    "    t_jk = (2 * q[j]) / (q[j] + q[k])\n",
    "    r_jk = (q[j] - q[k]) / (q[j] + q[k])\n",
    "    t.append(t_jk)\n",
    "    r.append(r_jk)\n",
    "    \n",
    "t = np.array(t)\n",
    "r = np.array(r)\n",
    "    \n",
    "# The interface matrices will be calculated inline rather than creating them all now in a 3-D array."
   ]
  },
  {
   "cell_type": "markdown",
   "metadata": {},
   "source": [
    "#### Layer Matrices"
   ]
  },
  {
   "cell_type": "code",
   "execution_count": 17,
   "metadata": {
    "collapsed": true
   },
   "outputs": [],
   "source": [
    "# Layer phase thicknesses of [Ambient (for consistent indices), Glass, ITO, Buffer, Active, Cathode]\n",
    "d = [-1, 0, 130, 50, 110, 1000]\n",
    "xi = q * (2 * math.pi / wavelength)\n",
    "xi[0] = -1 # ensure that both d and xi are negative for the ambient, since they shouldn't be used\n",
    "\n",
    "# The layer matrices will be calculated inline rather than creating them all now in a 3-D array."
   ]
  },
  {
   "cell_type": "markdown",
   "metadata": {},
   "source": [
    "#### System Transfer Matrix"
   ]
  },
  {
   "cell_type": "code",
   "execution_count": 18,
   "metadata": {},
   "outputs": [
    {
     "name": "stdout",
     "output_type": "stream",
     "text": [
      "[[-0.63311627+0.56782206j -0.10694372+0.11430904j]\n",
      " [-0.10694372+0.11430904j -0.63311627+0.56782206j]]\n"
     ]
    }
   ],
   "source": [
    "prod = np.identity(2)\n",
    "for v in range(1, m+1):\n",
    "    # interface matrix I_(v-1)v\n",
    "    t_jk = t[v-1]\n",
    "    r_jk = r[v-1]\n",
    "    I = (1 / t_jk) * np.array([\n",
    "                                [1, r_jk], \n",
    "                                [r_jk, 1]\n",
    "                             ]) \n",
    "    \n",
    "    # layer matrix L_v\n",
    "    phase_thickness = xi[v] * d[v]\n",
    "    L = np.array([\n",
    "                    [cmath.exp(-1j*phase_thickness), 0],\n",
    "                    [0, cmath.exp(-1j*phase_thickness)]\n",
    "                ])\n",
    "    \n",
    "    inner_prod = np.matmul(I, L)\n",
    "    \n",
    "    prod = np.matmul(prod, inner_prod)\n",
    "    \n",
    "#     print(prod)\n",
    "    \n",
    "outer_interface = (1 / t[m]) * np.array([\n",
    "                                            [1, r[m]],\n",
    "                                            [r[m], 1]\n",
    "                                       ])\n",
    "# print(prod)\n",
    "# print(outer_interface)\n",
    "S = np.matmul(prod, outer_interface)\n",
    "print(S)"
   ]
  },
  {
   "cell_type": "markdown",
   "metadata": {},
   "source": [
    "### Optimizing the internal optical electric field\n",
    "\n",
    "Here, we calculate the distribution of the normalized modulus squared of the incident optical electric field of the device using two different buffer layers."
   ]
  },
  {
   "cell_type": "markdown",
   "metadata": {},
   "source": [
    "#### Partial Transfer Matrices"
   ]
  },
  {
   "cell_type": "code",
   "execution_count": 22,
   "metadata": {},
   "outputs": [
    {
     "data": {
      "text/plain": [
       "[<matplotlib.lines.Line2D at 0x21629a9f358>]"
      ]
     },
     "execution_count": 22,
     "metadata": {},
     "output_type": "execute_result"
    },
    {
     "data": {
      "image/png": "[encoded data removed]",
      "text/plain": [
       "<Figure size 432x288 with 1 Axes>"
      ]
     },
     "metadata": {
      "needs_background": "light"
     },
     "output_type": "display_data"
    }
   ],
   "source": [
    "# for j in range(1, m+1):\n",
    "j = 2\n",
    "# To the left of j:\n",
    "prod = np.identity(2)\n",
    "for v in range(1, j):\n",
    "    # interface matrix I_(v-1)v\n",
    "    t_jk = t[v-1]\n",
    "    r_jk = r[v-1]\n",
    "    I = (1 / t_jk) * np.array([\n",
    "                                [1, r_jk], \n",
    "                                [r_jk, 1]\n",
    "                             ]) \n",
    "\n",
    "    # layer matrix L_v\n",
    "    phase_thickness = xi[v] * d[v]\n",
    "    L = np.array([\n",
    "                    [cmath.exp(-1j*phase_thickness), 0],\n",
    "                    [0, cmath.exp(-1j*phase_thickness)]\n",
    "                ])\n",
    "\n",
    "    inner_prod = np.matmul(I, L)\n",
    "    prod = np.matmul(prod, inner_prod)\n",
    "\n",
    "outer_interface = (1 / t[j-1]) * np.array([\n",
    "                                            [1, r[j-1]],\n",
    "                                            [r[j-1], 1]\n",
    "                                       ])\n",
    "S_left = np.matmul(prod, outer_interface)\n",
    "\n",
    "# To the right of j:\n",
    "prod = np.identity(2)\n",
    "for v in range(j+1, m+1):\n",
    "    # interface matrix I_(v-1)v\n",
    "    t_jk = t[v-1]\n",
    "    r_jk = r[v-1]\n",
    "    I = (1 / t_jk) * np.array([\n",
    "                                [1, r_jk], \n",
    "                                [r_jk, 1]\n",
    "                             ]) \n",
    "\n",
    "    # layer matrix L_v\n",
    "    phase_thickness = xi[v] * d[v]\n",
    "    L = np.array([\n",
    "                    [cmath.exp(-1j*phase_thickness), 0],\n",
    "                    [0, cmath.exp(-1j*phase_thickness)]\n",
    "                ])\n",
    "\n",
    "    inner_prod = np.matmul(I, L)\n",
    "    prod = np.matmul(prod, inner_prod)\n",
    "\n",
    "outer_interface = (1 / t[m]) * np.array([\n",
    "                                            [1, r[m]],\n",
    "                                            [r[m], 1]\n",
    "                                       ])\n",
    "S_right = np.matmul(prod, outer_interface)\n",
    "\n",
    "# Electric field in j:\n",
    "position = np.linspace(0, d[j], 200)\n",
    "E = []\n",
    "for x in position:\n",
    "    exp_1 = cmath.exp(-1j*xi[j] * (d[j]-x))\n",
    "    exp_2 = cmath.exp(1j*xi[j] * (d[j]-x))\n",
    "    numerator = (S_right[0][0] * exp_1) + (S_right[1][0] * exp_2)\n",
    "    \n",
    "    exp_3 = cmath.exp(-1j*xi[j]*d[j])\n",
    "    exp_4 = cmath.exp(1j*xi[j]*d[j])\n",
    "    denominator = (S_right[0][0] * S_left[0][0] * exp_3) + (S_left[0][1] * S_right[1][0] * exp_4)\n",
    "    \n",
    "    E_jx = (numerator/denominator) * E_0\n",
    "    E.append(E_jx)\n",
    "    \n",
    "E = np.array(np.abs(E)**2)\n",
    "plt.plot(position, E)"
   ]
  },
  {
   "cell_type": "markdown",
   "metadata": {},
   "source": [
    "### Optimizing photon absorption\n",
    "\n",
    "Here, we calculate the absorption and reflectance of the device using various ITO thicknesses."
   ]
  },
  {
   "cell_type": "code",
   "execution_count": null,
   "metadata": {
    "collapsed": true
   },
   "outputs": [],
   "source": []
  },
  {
   "cell_type": "markdown",
   "metadata": {},
   "source": [
    "### Further optimizing the internal optical electric field\n",
    "\n",
    "Here, we once again calculate the normalized modulus squared of the incident optical electric field of the device, this time using ITO of various thicknesses."
   ]
  },
  {
   "cell_type": "code",
   "execution_count": null,
   "metadata": {
    "collapsed": true
   },
   "outputs": [],
   "source": []
  }
 ],
 "metadata": {
  "kernelspec": {
   "display_name": "Python 3",
   "language": "python",
   "name": "python3"
  },
  "language_info": {
   "codemirror_mode": {
    "name": "ipython",
    "version": 3
   },
   "file_extension": ".py",
   "mimetype": "text/x-python",
   "name": "python",
   "nbconvert_exporter": "python",
   "pygments_lexer": "ipython3",
   "version": "3.6.1"
  }
 },
 "nbformat": 4,
 "nbformat_minor": 2
}
