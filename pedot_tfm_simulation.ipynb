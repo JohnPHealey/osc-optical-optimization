{
 "cells": [
  {
   "cell_type": "markdown",
   "metadata": {},
   "source": [
    "# Buffer Layer Optimization\n",
    "#### By: John Healey"
   ]
  },
  {
   "cell_type": "markdown",
   "metadata": {},
   "source": [
    "## Introduction\n",
    "\n",
    "We are studying the effect of using different kinds of PEDOT in the PEDOT:PSS buffer layer on the device's photon absorption and internal optical electrical field distribution. We will also determine the ITO thickness that optimizes these parameters.\n",
    "\n",
    "We will be using Transfer Matrix Formalism (TMF) to evaluate these properties, which is explained [here](https://aip.scitation.org/doi/abs/10.1063/1.370757), and summarized below."
   ]
  },
  {
   "cell_type": "markdown",
   "metadata": {},
   "source": [
    "## Theory behind TMF"
   ]
  },
  {
   "cell_type": "markdown",
   "metadata": {},
   "source": [
    "### Interface Matrices\n",
    "\n",
    "Each interface in the structure (between layers j and k) can be described by an interface matrix of the form:\n",
    "\n",
    "$I_{jk} = \\frac{1}{t_{jk}} \\begin{bmatrix}1 & r_{jk}\\\\r_{jk} & 1\\end{bmatrix}$\n",
    "\n",
    "where $r_{jk}$ and $t_{jk}$ are the Fresnel complex *reflection* and *transmission* coefficients at interface jk.\n",
    "\n",
    "These coefficients are given by:\n",
    "\n",
    "$r_{jk} = \\frac{q_j - q_k}{q_j + q_k},$\n",
    "\n",
    "$t_{jk} = \\frac{2 q_j}{q_j + q_k}$\n",
    "\n",
    "where\n",
    "\n",
    "$q_j = [\\tilde{n}_j^2 - \\eta_0^2 sin \\phi_0]^\\frac{1}{2}$\n",
    "\n",
    "We assume that $\\phi_0$ is 0, so $q_j$ is simplified to $\\tilde{n}_j$ - the complex index of refraction of layer j, which is determined experimentally:\n",
    "\n",
    "$q_j = \\tilde{n}_j$."
   ]
  },
  {
   "cell_type": "markdown",
   "metadata": {},
   "source": [
    "### Layer Matrices\n",
    "\n",
    "The layer matrix describing the propagation through layer j is given by:\n",
    "\n",
    "$L_j = \\begin{bmatrix}e^{-i \\xi_j d_j} & 0\\\\0 & e^{i \\xi_j d_j}\\end{bmatrix}$\n",
    "\n",
    "where\n",
    "\n",
    "$\\xi_j = \\frac{2 \\pi}{\\lambda} q_j$\n",
    "\n",
    "and $\\xi_j d_j$ is the *layer phase thickness*, corresponding to the phase change the wave experiences as it traverses layer j."
   ]
  },
  {
   "cell_type": "markdown",
   "metadata": {},
   "source": [
    "### System Transfer Matrix\n",
    "\n",
    "By using the interface and layer matrices, the total system transfer matrix (scattering matrix) S can be written:\n",
    "\n",
    "$S = \\begin{bmatrix}S_{11} & S_{12}\\\\S_{21} & S_{22}\\end{bmatrix} = (\\prod_{v=1}^{m} I_{(v-1)v} L_v) I_{m(m+1)}$\n",
    "\n",
    "This matrix relates the electric field at the ambient side and susbstrate side (Aluminum cathode - layer m+1) by:\n",
    "\n",
    "$\\begin{bmatrix}E_0^+\\\\E_0^-\\end{bmatrix} = S \\begin{bmatrix}E_{m+1}^+\\\\E_{m+1}^-\\end{bmatrix}$\n",
    "\n",
    "where the optical electric field at any point in the system is resolved into two components: one component propagating in the positive x direction and one in the negative x direction, which at a position x in layer j are denoted $E_j^+ (x)$ and $E_j^- (x)$\n",
    "\n",
    "For the total layered structure, the resulting complex reflection and transmission coefficients can be expressed by using\n",
    "the matrix elements of the total system transfer matrix:\n",
    "\n",
    "$r = \\frac{E_0^-}{E_0^+} = \\frac{S_{21}}{S_{11}}, $\n",
    "\n",
    "$t = \\frac{E_{m+1}^+}{E_0^+} = \\frac{1}{S_{11}}$."
   ]
  },
  {
   "cell_type": "markdown",
   "metadata": {},
   "source": [
    "### Calculating Internal Electric Field\n",
    "\n",
    "In order to calculate the internal electric field in layer j, the layers can be divided into two subsets: one subset to the left of j which will be represented by $S_j'$, and one subset to the right of j which we'll represent with $S_j''$.\n",
    "\n",
    "The total system transfer matrix can then be written as\n",
    "\n",
    "$S = S_j' L_j S_j''$\n",
    "\n",
    "The partial system transfer matrix for the layers left of j is equal to\n",
    "\n",
    "$S_j' = \\begin{bmatrix}S_{j11}' & S_{j12}'\\\\S_{j21}' & S_{j22}'\\end{bmatrix} = (\\prod_{v=1}^{j-1} I_{(v-1)v} L_v) I_{(j-1)j}$,\n",
    "\n",
    "and relates the electric field at the ambient to that at the left boundary of j - that is, at (j-1)j - by:\n",
    "\n",
    "$\\begin{bmatrix}E_0^+\\\\E_0^-\\end{bmatrix} = S_j' \\begin{bmatrix}E_j'^+\\\\E_j'^-\\end{bmatrix}$.\n",
    "\n",
    "For the layers right of j, the matrix is\n",
    "\n",
    "$S_j'' = \\begin{bmatrix}S_{j11}'' & S_{j12}''\\\\S_{j21}'' & S_{j22}''\\end{bmatrix} = (\\prod_{v=j+1}^{m} I_{(v-1)v} L_v) I_{m(m+1)}$,\n",
    "\n",
    "which relates the electric field at the right boundary of j - that is, at j(j+1) - to that at the substsrate by:\n",
    "\n",
    "$\\begin{bmatrix}E_j''^+\\\\E_j''^-\\end{bmatrix} = S_j'' \\begin{bmatrix}E_{m+1}^+\\\\E_{m+1}^-\\end{bmatrix}$.\n",
    "\n",
    "Note that the electric field relations given here will not be used in the final calculation, and are only provided to give a better understanding of the scattering matrices.\n",
    "\n",
    "The expression for the total electric field in an arbitrary plane $j$ at distance $x$ from the left boundary of j is:\n",
    "\n",
    "$$\n",
    "E_j(x) = \\frac{S_{j11}'' \\cdot e^{-i \\xi_j (d_j - x)} + S_{j21}'' \\cdot e^{i \\xi_j (d_j - x)}}\n",
    "{S_{j11}' S_{j11}'' \\cdot e^{-i \\xi_j d_j} + S_{j12}' S_{j21}'' \\cdot e^{i \\xi_j d_j}}\n",
    "E_0^+,\n",
    "$$\n",
    "\n",
    "where $0 \\le x \\le d$."
   ]
  },
  {
   "cell_type": "markdown",
   "metadata": {},
   "source": [
    "## Calculation"
   ]
  },
  {
   "cell_type": "markdown",
   "metadata": {},
   "source": [
    "### Setting up constants"
   ]
  },
  {
   "cell_type": "code",
   "execution_count": 55,
   "metadata": {},
   "outputs": [],
   "source": [
    "import numpy as np\n",
    "from scipy import constants\n",
    "from matplotlib import pyplot as plt\n",
    "import math\n",
    "import cmath\n",
    "\n",
    "wavelength = 632.8 # nm\n",
    "E_0 = constants.h * constants.c * 1e-9 / wavelength / 1.6021766208e-19 # energy of the light in the ambient\n",
    "m = 3 # no. of layers between ambient and substrate (Al cathode)"
   ]
  },
  {
   "cell_type": "markdown",
   "metadata": {},
   "source": [
    "#### Interface Matrices"
   ]
  },
  {
   "cell_type": "code",
   "execution_count": 56,
   "metadata": {},
   "outputs": [],
   "source": [
    "# Determined optical properties of [Ambient, ITO, Buffer, Active, Cathode (substrate)]\n",
    "eta = np.array([1.0003, 1.736, 1.44916, 2.11, 1.37166]) # refractive indices\n",
    "k = np.array([0, 0.01178, 0.05326, 0.126708, 7.60477]) # extinction coefficients\n",
    "n = eta + 1j*k # complex indices of refraction\n",
    "q = n # since we are assuming that the angle of incidence is 0\n",
    "\n",
    "# Fresnel complex coefficients\n",
    "# t[0] corresponds to t_01 in the above theory\n",
    "t = [] # transmission\n",
    "r = [] # reflection\n",
    "\n",
    "for j in range(len(q) - 1):\n",
    "    k = j+1\n",
    "    t_jk = (2 * q[j]) / (q[j] + q[k])\n",
    "    r_jk = (q[j] - q[k]) / (q[j] + q[k])\n",
    "    t.append(t_jk)\n",
    "    r.append(r_jk)\n",
    "\n",
    "t = np.array(t)\n",
    "r = np.array(r)\n",
    "\n",
    "# The interface matrices will be calculated inline using these values rather than creating them all now in a 3-D array."
   ]
  },
  {
   "cell_type": "markdown",
   "metadata": {},
   "source": [
    "#### Layer Matrices"
   ]
  },
  {
   "cell_type": "code",
   "execution_count": 57,
   "metadata": {},
   "outputs": [],
   "source": [
    "# Layer phase thicknesses of [Ambient (for consistent indices), ITO, Buffer, Active, Cathode]\n",
    "d = [-1, 130, 50, 110, 50]\n",
    "xi = q * (2 * math.pi / wavelength)\n",
    "xi[0] = -1 # ensure that both d and xi are negative for the ambient, since they shouldn't be used\n",
    "\n",
    "# The layer matrices will be calculated inline using these values rather than creating them all now in a 3-D array."
   ]
  },
  {
   "cell_type": "markdown",
   "metadata": {},
   "source": [
    "#### System Transfer Matrix"
   ]
  },
  {
   "cell_type": "code",
   "execution_count": 83,
   "metadata": {},
   "outputs": [],
   "source": [
    "# Returns the scattering matrix corresponding to the given layers. Defaults to the matrix for the System.\n",
    "def scattering_matrix(start_layer=1, stop_layer=m, t=t, r=r, d=d):\n",
    "    prod = np.identity(2) # initial value of cumulative product\n",
    "    for v in range(start_layer, stop_layer+1):\n",
    "        # interface matrix I_(v-1)v\n",
    "        t_jk = t[v-1]\n",
    "        r_jk = r[v-1]\n",
    "        I_v = (1 / t_jk) * np.array([\n",
    "                                    [1, r_jk], \n",
    "                                    [r_jk, 1]\n",
    "                                 ]) \n",
    "\n",
    "        # layer matrix L_v\n",
    "        phase_thickness = xi[v] * d[v]\n",
    "        L_v = np.array([\n",
    "                        [cmath.exp(-1j*phase_thickness), 0],\n",
    "                        [0, cmath.exp(1j*phase_thickness)]\n",
    "                    ])\n",
    "\n",
    "        inner_prod = np.matmul(I_v, L_v)\n",
    "\n",
    "        prod = np.matmul(prod, inner_prod)\n",
    "\n",
    "    outer_interface = (1 / t[stop_layer]) * np.array([\n",
    "                                                [1, r[stop_layer]],\n",
    "                                                [r[stop_layer], 1]\n",
    "                                           ])\n",
    "    return np.matmul(prod, outer_interface)"
   ]
  },
  {
   "cell_type": "code",
   "execution_count": 84,
   "metadata": {},
   "outputs": [
    {
     "name": "stdout",
     "output_type": "stream",
     "text": [
      "[[-1.20698443+3.90083143j  1.85776131-1.73078685j]\n",
      " [-0.91593961-2.82883005j  1.29837799+0.93808934j]]\n"
     ]
    }
   ],
   "source": [
    "S = scattering_matrix()\n",
    "print(S)"
   ]
  },
  {
   "cell_type": "markdown",
   "metadata": {},
   "source": [
    "### Optimizing the internal optical electric field\n",
    "\n",
    "Here, we calculate the distribution of the normalized modulus squared of the incident optical electric field of the device using two different buffer layers."
   ]
  },
  {
   "cell_type": "code",
   "execution_count": 85,
   "metadata": {},
   "outputs": [],
   "source": [
    "# Returns the electric field at point x in layer j, given the partial scattering matrices.\n",
    "def electric_field(S_left, S_right, j, x, d=d):\n",
    "    exp_1 = cmath.exp(-1j*xi[j] * (d[j]-x))\n",
    "    exp_2 = cmath.exp(1j*xi[j] * (d[j]-x))\n",
    "    numerator = (S_right[0][0] * exp_1) + (S_right[1][0] * exp_2)\n",
    "\n",
    "    exp_3 = cmath.exp(-1j*xi[j]*d[j])\n",
    "    exp_4 = cmath.exp(1j*xi[j]*d[j])\n",
    "    denominator = (S_left[0][0] * S_right[0][0] * exp_3) + (S_left[0][1] * S_right[1][0] * exp_4)\n",
    "\n",
    "    return (numerator/denominator) * E_0"
   ]
  },
  {
   "cell_type": "markdown",
   "metadata": {},
   "source": [
    "#### Modified buffer layer"
   ]
  },
  {
   "cell_type": "code",
   "execution_count": 86,
   "metadata": {},
   "outputs": [],
   "source": [
    "# Determined optical properties of [Ambient, ITO, Modified Buffer, Active, Cathode (substrate)]\n",
    "eta_mod = np.array([1.0003, 1.736, 1.4, 2.11, 1.37166]) # refractive indices\n",
    "k_mod = np.array([0, 0.01178, 0.01, 0.126708, 7.60477]) # extinction coefficients\n",
    "n_mod = eta_mod + 1j*k_mod # complex indices of refraction\n",
    "q_mod = n_mod # since we are assuming that the angle of incidence is 0\n",
    "\n",
    "# Fresnel complex coefficients\n",
    "# t[0] corresponds to t_01 in the above theory\n",
    "t_mod = [] # transmission\n",
    "r_mod = [] # reflection\n",
    "\n",
    "for j in range(len(q_mod) - 1):\n",
    "    k = j+1\n",
    "    t_jk = (2 * q_mod[j]) / (q_mod[j] + q_mod[k])\n",
    "    r_jk = (q_mod[j] - q_mod[k]) / (q_mod[j] + q_mod[k])\n",
    "    t_mod.append(t_jk)\n",
    "    r_mod.append(r_jk)\n",
    "\n",
    "t_mod = np.array(t_mod)\n",
    "r_mod = np.array(r_mod)"
   ]
  },
  {
   "cell_type": "markdown",
   "metadata": {},
   "source": [
    "#### Electric field comparison"
   ]
  },
  {
   "cell_type": "code",
   "execution_count": 87,
   "metadata": {},
   "outputs": [
    {
     "data": {
      "image/png": "[encoded data removed]",
      "text/plain": [
       "<Figure size 432x288 with 1 Axes>"
      ]
     },
     "metadata": {
      "needs_background": "light"
     },
     "output_type": "display_data"
    }
   ],
   "source": [
    "E = []\n",
    "E_mod = []\n",
    "position = []\n",
    "current_position = 0\n",
    "for j in range(1, m+2):\n",
    "    # To the left of j:\n",
    "    S_left = scattering_matrix(1, j-1)\n",
    "    S_left_mod = scattering_matrix(1, j-1, t=t_mod, r=r_mod)\n",
    "\n",
    "    # To the right of j:\n",
    "    S_right = scattering_matrix(j+1, m)\n",
    "    S_right_mod = scattering_matrix(j+1, m, t=t_mod, r=r_mod)\n",
    "\n",
    "    # Electric field in j:\n",
    "    x_j = np.linspace(0, d[j], 200) # values for position in this layer\n",
    "    position.extend(x_j + current_position)\n",
    "    current_position += d[j]\n",
    "    for x in x_j:\n",
    "        E.append(electric_field(S_left, S_right, j, x))\n",
    "        E_mod.append(electric_field(S_left_mod, S_right_mod, j, x))\n",
    "    \n",
    "E_norm = np.array(np.abs(E)**2)\n",
    "E_mod_norm = np.array(np.abs(E_mod)**2)\n",
    "plt.plot(position, E_norm, label=\"Original Buffer\", linestyle='--')\n",
    "plt.plot(position, E_mod_norm, label=\"Modified Buffer\")\n",
    "plt.legend()\n",
    "plt.show()"
   ]
  },
  {
   "cell_type": "markdown",
   "metadata": {},
   "source": [
    "### Further optimizing the internal optical electric field\n",
    "\n",
    "Here, we once again calculate the normalized modulus squared of the incident optical electric field of the device, this time using ITO of various thicknesses."
   ]
  },
  {
   "cell_type": "code",
   "execution_count": 89,
   "metadata": {},
   "outputs": [
    {
     "name": "stdout",
     "output_type": "stream",
     "text": [
      "0\n",
      "100\n",
      "150\n",
      "260\n"
     ]
    },
    {
     "data": {
      "image/png": "[encoded data removed]",
      "text/plain": [
       "<Figure size 432x288 with 1 Axes>"
      ]
     },
     "metadata": {
      "needs_background": "light"
     },
     "output_type": "display_data"
    }
   ],
   "source": [
    "d_mod = [-1, 100, 50, 110, 50]\n",
    "E_ito_mod = []\n",
    "position_ito_mod = []\n",
    "current_position = 0\n",
    "for j in range(1, m+2):\n",
    "    print(current_position)\n",
    "    # To the left of j:\n",
    "    S_left = scattering_matrix(1, j-1, d=d_mod)\n",
    "\n",
    "    # To the right of j:\n",
    "    S_right = scattering_matrix(j+1, m, d=d_mod)\n",
    "\n",
    "    # Electric field in j:\n",
    "    x_j = np.linspace(0, d_mod[j], 200) # values for position in this layer\n",
    "    position_ito_mod.extend(x_j + current_position)\n",
    "    current_position += d_mod[j]\n",
    "    for x in x_j:\n",
    "        E_ito_mod.append(electric_field(S_left, S_right, j, x, d=d_mod))\n",
    "    \n",
    "E_ito_mod_norm = np.array(np.abs(E_ito_mod)**2)\n",
    "plt.plot(position, E_norm, label=\"Original Architecture\", linestyle='--')\n",
    "plt.plot(position, E_mod_norm, label=\"Modified Buffer\")\n",
    "plt.plot(position_ito_mod, E_ito_mod_norm, label=\"Modified ITO\")\n",
    "plt.legend()\n",
    "plt.show()"
   ]
  },
  {
   "cell_type": "markdown",
   "metadata": {},
   "source": [
    "### Optimizing photon absorption\n",
    "\n",
    "Here, we calculate the absorption and reflectance of the device using various ITO thicknesses."
   ]
  },
  {
   "cell_type": "code",
   "execution_count": null,
   "metadata": {},
   "outputs": [],
   "source": []
  }
 ],
 "metadata": {
  "kernelspec": {
   "display_name": "Python 3",
   "language": "python",
   "name": "python3"
  },
  "language_info": {
   "codemirror_mode": {
    "name": "ipython",
    "version": 3
   },
   "file_extension": ".py",
   "mimetype": "text/x-python",
   "name": "python",
   "nbconvert_exporter": "python",
   "pygments_lexer": "ipython3",
   "version": "3.7.3"
  }
 },
 "nbformat": 4,
 "nbformat_minor": 2
}
